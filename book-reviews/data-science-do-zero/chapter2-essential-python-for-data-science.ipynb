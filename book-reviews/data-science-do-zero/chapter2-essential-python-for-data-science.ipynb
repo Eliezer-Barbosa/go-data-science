{
 "cells": [
  {
   "cell_type": "markdown",
   "metadata": {},
   "source": [
    "## Essencial do Python para Data Science\n",
    "\n",
    "Este material foi criado baseado no livro: Data Science do Zero de Joel Grus."
   ]
  },
  {
   "cell_type": "markdown",
   "metadata": {},
   "source": [
    "### Estilo de formação do cídigo"
   ]
  },
  {
   "cell_type": "code",
   "execution_count": 1,
   "metadata": {},
   "outputs": [
    {
     "name": "stdout",
     "output_type": "stream",
     "text": [
      "1\n",
      "3\n",
      "4\n",
      "j done\n",
      "2\n",
      "3\n",
      "4\n",
      "j done\n",
      "i done\n"
     ]
    }
   ],
   "source": [
    "# Python utiliza indentação para delimitar o bloco de código\n",
    "for i in [1, 2]:\n",
    "    print(i)\n",
    "    for j in [3, 4]:\n",
    "        print(j)\n",
    "    print(\"j done\") # final do loop do j\n",
    "print(\"i done\") # final do loop do i"
   ]
  },
  {
   "cell_type": "markdown",
   "metadata": {},
   "source": [
    "### Carregando os modulos"
   ]
  },
  {
   "cell_type": "code",
   "execution_count": 2,
   "metadata": {},
   "outputs": [],
   "source": [
    "# Todos os modulos (bibliotecas) devem ser importados como abaixo:\n",
    "import re\n",
    "# Você ainda pode querer definir um nome mais declarativo ou simples fazendo isso:\n",
    "import re as regex\n",
    "import matplotlib.pyplot as plt\n",
    "# Ainda é possível fazer o import de uma função específica:\n",
    "from collections import Counter"
   ]
  },
  {
   "cell_type": "markdown",
   "metadata": {},
   "source": [
    "### Definindo funções"
   ]
  },
  {
   "cell_type": "code",
   "execution_count": 3,
   "metadata": {},
   "outputs": [
    {
     "data": {
      "text/plain": [
       "4"
      ]
     },
     "execution_count": 3,
     "metadata": {},
     "output_type": "execute_result"
    }
   ],
   "source": [
    "# Para definir uma função em Python devemos utilizar a palavra reservada def como abaixo:\n",
    "def my_sum(a, b):\n",
    "    return a + b\n",
    "\n",
    "my_sum(2, 2) # chamando a função soma!"
   ]
  },
  {
   "cell_type": "code",
   "execution_count": 4,
   "metadata": {},
   "outputs": [
    {
     "data": {
      "text/plain": [
       "4"
      ]
     },
     "execution_count": 4,
     "metadata": {},
     "output_type": "execute_result"
    }
   ],
   "source": [
    "# Você também poderia escrever a função acima inline como abaixo:\n",
    "def my_soma_in_line(a, b): return a + b\n",
    "\n",
    "my_soma_in_line(2, 2)"
   ]
  },
  {
   "cell_type": "code",
   "execution_count": 5,
   "metadata": {},
   "outputs": [
    {
     "name": "stdout",
     "output_type": "stream",
     "text": [
      "4\n",
      "...\n"
     ]
    },
    {
     "data": {
      "text/plain": [
       "2"
      ]
     },
     "execution_count": 5,
     "metadata": {},
     "output_type": "execute_result"
    }
   ],
   "source": [
    "# Você ainda pode atribuir funções para variaveis como abaixo:\n",
    "def old_double(x): return x * 2;\n",
    "new_double = old_double\n",
    "print(new_double(2))\n",
    "\n",
    "print(\"...\")\n",
    "# E então fazer coisas confusas como isso:\n",
    "\n",
    "def apply_function(function): return function(1)\n",
    "apply_function(new_double) # Mas como eu poderia passar o argumento junto?\n"
   ]
  },
  {
   "cell_type": "markdown",
   "metadata": {},
   "source": [
    "#### Documentação simples sobre funções"
   ]
  },
  {
   "cell_type": "code",
   "execution_count": 6,
   "metadata": {},
   "outputs": [
    {
     "data": {
      "text/plain": [
       "4"
      ]
     },
     "execution_count": 6,
     "metadata": {},
     "output_type": "execute_result"
    }
   ],
   "source": [
    "# Neste momento quem sabe chegou a hora de criar uma documentação, as coisas começaram a ficar mais complexas..\n",
    "# Para isso, uma boa prática é fazer como abaixo:\n",
    "def soma(a, b):\n",
    "    \"\"\"Esta função soma a+b\"\"\"\n",
    "    return a + b\n",
    "\n",
    "soma(2, 2)"
   ]
  },
  {
   "cell_type": "code",
   "execution_count": 7,
   "metadata": {},
   "outputs": [
    {
     "name": "stdout",
     "output_type": "stream",
     "text": [
      "5\n",
      "...\n",
      "-5\n"
     ]
    }
   ],
   "source": [
    "# Ainda sobre funções em Python, você pode querer definir os valores e as vezes até trocar a ordem dos argumentos..\n",
    "def subtract(a=0,b=0): return a-b\n",
    "\n",
    "print(subtract(10, 5))\n",
    "\n",
    "print(\"...\")\n",
    "\n",
    "def other_subtract(a, b): return a-b;\n",
    "\n",
    "print(other_subtract(b=10, a=5))"
   ]
  },
  {
   "cell_type": "markdown",
   "metadata": {},
   "source": [
    "### Strings (cadeia de caracteres)"
   ]
  },
  {
   "cell_type": "code",
   "execution_count": 8,
   "metadata": {},
   "outputs": [
    {
     "name": "stdout",
     "output_type": "stream",
     "text": [
      "Emanoel\n",
      "Ema\tnoel\n",
      "...\n",
      "caminho\\arquivo.text\n",
      "caminho\u0007rquivo.text\n"
     ]
    }
   ],
   "source": [
    "# Definimos Strings em python por aspas simples ou duplas:\n",
    "name = \"Emanoel\"\n",
    "print(name)\n",
    "# Também podemos utilizar alguns codificadores de caracteres..\n",
    "apply_tab_in_name = \"Ema\\tnoel\"\n",
    "print(apply_tab_in_name)\n",
    "print(\"...\")\n",
    "# Ainda é possivel utilizar a barra invertida definindo o inicio da String como:\n",
    "usando_barra = r\"caminho\\arquivo.text\"\n",
    "print(usando_barra)\n",
    "sem_usar_r = \"caminho\\arquivo.text\" # sem a utilização do r no inicio..\n",
    "print(sem_usar_r)\n",
    "# Perceba que isso é bastante importante na utilização de path de arquivos ou diretórios"
   ]
  },
  {
   "cell_type": "markdown",
   "metadata": {},
   "source": [
    "### Listas"
   ]
  },
  {
   "cell_type": "code",
   "execution_count": 9,
   "metadata": {},
   "outputs": [
    {
     "name": "stdout",
     "output_type": "stream",
     "text": [
      "Tamanho da lista de números: 3\n",
      "...\n",
      "Tamanho da lista misturada com inteiros: 2\n",
      "soma dos elementos da lista inteiros: 6\n",
      "...\n",
      "0\n",
      "9\n",
      "8\n",
      "...\n",
      "Escrevendo minha lista modificada:\n",
      "-1\n",
      "1\n",
      "2\n",
      "3\n",
      "4\n",
      "5\n",
      "6\n",
      "7\n",
      "8\n",
      "9\n",
      "[-1, 1, 2]\n",
      "[2, 3, 4]\n",
      "[3, 4, 5, 6, 7, 8, 9]\n",
      "[-1, 1, 2, 3, 4, 5, 6, 7, 8, 9]\n",
      "...\n",
      "True\n",
      "False\n",
      "...\n",
      "[1, 2, 3]\n",
      "[1, 2, 3, 4, 5]\n",
      "[1, 2, 3, 4, 5, 6, 7, 8, 9]\n",
      "...\n"
     ]
    }
   ],
   "source": [
    "# Listas em python são bastante parecidas com arrays como em qualquer outra linguagem\n",
    "integer_list = [1, 2, 3]\n",
    "print(\"Tamanho da lista de números:\", len(integer_list))\n",
    "print(\"...\")\n",
    "lista_misturada = [\"String\", 0.1, True] # Perceba que não existe um padrão definido como em Java por exemplo..\n",
    "lista_misturada_com_inteiros = [integer_list, lista_misturada]\n",
    "print(\"Tamanho da lista misturada com inteiros:\", len(lista_misturada_com_inteiros))\n",
    "# Perceba que o tamanho considera a quantidade de elementos, desconsiderando os elementos da sub lista..\n",
    "# Você também pode querer somar todos os elementos da lista de inteiros:\n",
    "print(\"soma dos elementos da lista inteiros:\", sum(integer_list))\n",
    "print(\"...\")\n",
    "# Assim como em Java (minha linguagem com maior domínio) é possível fazer manipulações sobre os indices:\n",
    "x = list(range(10)) # definindo uma lista de comprimento 0..9\n",
    "zero = x[0] # obtendo o primeiro elemento da lista, neste caso o zero\n",
    "print(zero)\n",
    "# No entanto, python tem alguns super poderes e lhe deixar fazer algo como isso:\n",
    "nine = x[-1] # obtendo o ultimo elemento da lista, neste caso o nove\n",
    "print(nine)\n",
    "eigth = x[-2] # obtendo o penúltimo elemento da lista\n",
    "print(eigth)\n",
    "print(\"...\")\n",
    "# Ainda consigo fazer coisas mais \"humanas\" hehehe\n",
    "x[0] = -1 # acabei de definir o primeiro elemento da lista como -1\n",
    "\n",
    "print(\"Escrevendo minha lista modificada:\")\n",
    "for i in x:\n",
    "    print(i)\n",
    "\n",
    "# Você ainda pode fazer outras manipulações sobre a lista como abaixo:\n",
    "first_three = x[:3] # obter os primeiros três elementos\n",
    "print(first_three)\n",
    "range_of_elements = x[2:5] # obter os elementos entre os indices especificados\n",
    "print(range_of_elements)\n",
    "three_to_end = x[3:] # desconsiderando os elementos antes do terceiro\n",
    "print(three_to_end) \n",
    "## ainda seguindo esta ideia é possível fazer um cópia da lista\n",
    "copy = x[:]\n",
    "print(copy)\n",
    "print(\"...\")\n",
    "# Tem muita coisa ainda que python faz sobre listas, abaixo você encontra várias operações:\n",
    "1 in [1, 2] # verificando se o número 1 está contido sobre a lista, retorna true\n",
    "print(1 in [1, 2])\n",
    "0 in [1, 2] # retorna false\n",
    "print(0 in [1, 2])\n",
    "# A operação acima deve ser realizada com cuidado, ela irá percorrer todos os elementos da lista\n",
    "# o que em muitos casos isso pode acabar por ser custoso..\n",
    "print(\"...\")\n",
    "# Você ainda pode desejar fazer um apend sobre a lista adicionando um novo elemento ou concatenando uma outra lista\n",
    "x = [1, 2, 3]\n",
    "print(x)\n",
    "x.append(4)\n",
    "x.append(5)\n",
    "print(x)\n",
    "x.extend([6, 7, 8, 9])\n",
    "print(x)\n",
    "print(\"...\")\n",
    "# Quem sabe deseja realizar uma separação de elementos, então:\n",
    "a, b =  [1, 2]"
   ]
  },
  {
   "cell_type": "markdown",
   "metadata": {},
   "source": [
    "### Tuplas"
   ]
  },
  {
   "cell_type": "code",
   "execution_count": 17,
   "metadata": {},
   "outputs": [
    {
     "name": "stdout",
     "output_type": "stream",
     "text": [
      "cannot modify a tuple\n",
      "(5, 6)\n",
      "valor do a: 5\n",
      "valor do b: 6\n"
     ]
    }
   ],
   "source": [
    "# Tuplas são como listas, no entanto, são imutáveis!\n",
    "# Quase todas as operações realizadas sobre listas se aplicam a tuplas\n",
    "\n",
    "# Para definir uma tupla realizamos a seguinte declaração:\n",
    "my_tuple = (1, 2)\n",
    "# ou então:\n",
    "other_tuple = 1, 2\n",
    "\n",
    "# Ao tentar realizar uma modificação sobre algum valor como realizavamos sobre listas retornara um erro..\n",
    "try:\n",
    "   my_tuple[0] = 3\n",
    "except TypeError:\n",
    "    print(\"cannot modify a tuple\")\n",
    "    \n",
    "# Com elas conseguimos retornar multiplos valores a partir das funções\n",
    "def sum_and_product(x, y):\n",
    "    return (x + y),(x * y)\n",
    "\n",
    "result = sum_and_product(2, 3)\n",
    "print(result)\n",
    "\n",
    "a, b = sum_and_product(2, 3)\n",
    "print(\"valor do a:\", a)\n",
    "print(\"valor do b:\", b)\n"
   ]
  },
  {
   "cell_type": "markdown",
   "metadata": {},
   "source": [
    "### Dicionários"
   ]
  },
  {
   "cell_type": "code",
   "execution_count": 25,
   "metadata": {},
   "outputs": [
    {
     "name": "stdout",
     "output_type": "stream",
     "text": [
      "idade: 80\n",
      "...\n",
      "dict_keys(['name', 'year'])\n",
      "dict_values(['Emanoel', 27])\n",
      "dict_items([('name', 'Emanoel'), ('year', 27)])\n",
      "...\n",
      "dicionario contem a chave name? True\n",
      "dicionario contem o valor Emanoel? True\n",
      "...\n",
      "defaultdict(<class 'int'>, {'apple': 1, 'orange': 1})\n",
      "defaultdict(<class 'list'>, {'apple': [1]})\n"
     ]
    },
    {
     "ename": "AttributeError",
     "evalue": "'dict' object has no attribute 'append'",
     "output_type": "error",
     "traceback": [
      "\u001b[0;31m---------------------------------------------------------------------------\u001b[0m",
      "\u001b[0;31mAttributeError\u001b[0m                            Traceback (most recent call last)",
      "\u001b[0;32m<ipython-input-25-548a54fd6373>\u001b[0m in \u001b[0;36m<module>\u001b[0;34m()\u001b[0m\n\u001b[1;32m     43\u001b[0m \u001b[0mdd_list\u001b[0m \u001b[0;34m=\u001b[0m \u001b[0mdefaultdict\u001b[0m\u001b[0;34m(\u001b[0m\u001b[0mdict\u001b[0m\u001b[0;34m)\u001b[0m \u001b[0;31m# iniciando um dicionario vazio\u001b[0m\u001b[0;34m\u001b[0m\u001b[0m\n\u001b[1;32m     44\u001b[0m \u001b[0mdd_list\u001b[0m\u001b[0;34m[\u001b[0m\u001b[0;34m\"fruit\"\u001b[0m\u001b[0;34m]\u001b[0m\u001b[0;34m[\u001b[0m\u001b[0;34m\"apple\"\u001b[0m\u001b[0;34m]\u001b[0m \u001b[0;34m=\u001b[0m \u001b[0;36m1\u001b[0m\u001b[0;34m\u001b[0m\u001b[0m\n\u001b[0;32m---> 45\u001b[0;31m \u001b[0mdd_list\u001b[0m\u001b[0;34m[\u001b[0m\u001b[0;34m\"other\"\u001b[0m\u001b[0;34m]\u001b[0m\u001b[0;34m.\u001b[0m\u001b[0mappend\u001b[0m\u001b[0;34m(\u001b[0m\u001b[0;34m\"rice\"\u001b[0m\u001b[0;34m)\u001b[0m\u001b[0;34m\u001b[0m\u001b[0m\n\u001b[0m\u001b[1;32m     46\u001b[0m \u001b[0mprint\u001b[0m\u001b[0;34m(\u001b[0m\u001b[0mdd_list\u001b[0m\u001b[0;34m)\u001b[0m\u001b[0;34m\u001b[0m\u001b[0m\n",
      "\u001b[0;31mAttributeError\u001b[0m: 'dict' object has no attribute 'append'"
     ]
    }
   ],
   "source": [
    "# Dicionários também é uma das principais estruturas em python.. lembrando algo parecido com mapas em Java\n",
    "dici = {\"João\":80, \"Pedro\":20}\n",
    "idade = dici[\"João\"]\n",
    "print(\"idade:\", idade)\n",
    "print(\"...\")\n",
    "\n",
    "person  = { # uma forma mais interessante de declarar um dicionário\n",
    "    \"name\": \"Emanoel\",\n",
    "    \"year\": 27\n",
    "}\n",
    "\n",
    "# No python ja existem alguams implementações que podem te auxiliar, como por exemplo:\n",
    "keys = person.keys() # retorna uma lista de chaves do dicionario\n",
    "print(keys)\n",
    "\n",
    "values = person.values()\n",
    "print(values) # retorna uma lista de chaves de valores do dicionario\n",
    "\n",
    "items = person.items()\n",
    "print(items) # retorna uma tupla (chave, valor)\n",
    "\n",
    "print(\"...\")\n",
    "print(\"dicionario contem a chave name?\", \"name\" in person)\n",
    "print(\"dicionario contem o valor Emanoel?\", \"Emanoel\" in values) # perceba que estou usando a lista de valores\n",
    "\n",
    "print(\"...\")\n",
    "# Alguns assuntos um pouco mais avançados sobre dicionário:\n",
    "# defaultdict é um utilitario de collections para auxiliar na adição/procura de chaves\n",
    "\n",
    "from collections import defaultdict\n",
    "\n",
    "word = defaultdict(int) # recebendo o valor padrão quando não encontrar a chave procurada..\n",
    "word[\"apple\"] = 1\n",
    "word[\"orange\"] = 1\n",
    "print(word)\n",
    "\n",
    "# também é possivel utilizar listas \n",
    "dd_list = defaultdict(list)\n",
    "dd_list[\"apple\"].append(1)\n",
    "print(dd_list)\n",
    "\n",
    "# e fazer algumas \"misturas\"\n",
    "dd_list = defaultdict(dict) # iniciando um dicionario vazio\n",
    "dd_list[\"fruit\"][\"apple\"] = 1\n",
    "dd_list[\"other\"] = \"rice\")\n",
    "print(dd_list)"
   ]
  }
 ],
 "metadata": {
  "kernelspec": {
   "display_name": "Python 3",
   "language": "python",
   "name": "python3"
  },
  "language_info": {
   "codemirror_mode": {
    "name": "ipython",
    "version": 3
   },
   "file_extension": ".py",
   "mimetype": "text/x-python",
   "name": "python",
   "nbconvert_exporter": "python",
   "pygments_lexer": "ipython3",
   "version": "3.6.5"
  }
 },
 "nbformat": 4,
 "nbformat_minor": 2
}
