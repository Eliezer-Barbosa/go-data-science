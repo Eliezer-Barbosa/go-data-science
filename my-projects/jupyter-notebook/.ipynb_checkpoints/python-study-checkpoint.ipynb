{
 "cells": [
  {
   "cell_type": "markdown",
   "metadata": {},
   "source": [
    "## Primeiros passos em Python"
   ]
  },
  {
   "cell_type": "markdown",
   "metadata": {},
   "source": [
    "### Lógica básica e definições da linguagem"
   ]
  },
  {
   "cell_type": "code",
   "execution_count": 4,
   "metadata": {},
   "outputs": [
    {
     "data": {
      "text/plain": [
       "4"
      ]
     },
     "execution_count": 4,
     "metadata": {},
     "output_type": "execute_result"
    }
   ],
   "source": [
    "# Python consegue interpretar operações matematicas\n",
    "2+2"
   ]
  },
  {
   "cell_type": "code",
   "execution_count": 5,
   "metadata": {},
   "outputs": [
    {
     "data": {
      "text/plain": [
       "'Emanoel'"
      ]
     },
     "execution_count": 5,
     "metadata": {},
     "output_type": "execute_result"
    }
   ],
   "source": [
    "# Python também consegue definir tipos como String!\n",
    "# seguindo a definição da comunidade, utilizamos apas simples\n",
    "'Emanoel'"
   ]
  },
  {
   "cell_type": "code",
   "execution_count": 6,
   "metadata": {},
   "outputs": [],
   "source": [
    "# a declaração das variaveis diferente de muitas linguagens, não possui tipos definidos\n",
    "name = 'Emanoel'"
   ]
  },
  {
   "cell_type": "code",
   "execution_count": 11,
   "metadata": {},
   "outputs": [
    {
     "name": "stdout",
     "output_type": "stream",
     "text": [
      "Nome: Emanoel\n"
     ]
    }
   ],
   "source": [
    "# print é uma função já pre definida em Python\n",
    "print('Nome: ' + name) # concatenando a variavel name definida anteriormente"
   ]
  },
  {
   "cell_type": "code",
   "execution_count": 18,
   "metadata": {},
   "outputs": [],
   "source": [
    "# implementando uma função simples\n",
    "def defineNome():\n",
    "    name = input('Informe um nome: ')\n",
    "    print('Olá: ' + name)"
   ]
  },
  {
   "cell_type": "code",
   "execution_count": 19,
   "metadata": {},
   "outputs": [
    {
     "name": "stdout",
     "output_type": "stream",
     "text": [
      "Informe um nome: Emanoel\n",
      "Olá: Emanoel\n"
     ]
    }
   ],
   "source": [
    "defineNome()"
   ]
  },
  {
   "cell_type": "code",
   "execution_count": 22,
   "metadata": {},
   "outputs": [],
   "source": [
    "# passagem de parametros para funções em Python\n",
    "def recebeNome(nome):\n",
    "    print('Olá ' + nome)"
   ]
  },
  {
   "cell_type": "code",
   "execution_count": 23,
   "metadata": {},
   "outputs": [
    {
     "name": "stdout",
     "output_type": "stream",
     "text": [
      "Olá Pedro\n"
     ]
    }
   ],
   "source": [
    "recebeNome('Pedro')"
   ]
  },
  {
   "cell_type": "code",
   "execution_count": 31,
   "metadata": {},
   "outputs": [],
   "source": [
    "# usando condicionais em Python\n",
    "def isMaiorDeIdade(idade):\n",
    "    if idade >= 18:\n",
    "        print('MAIOR de idade.')\n",
    "    else:\n",
    "        print('MENOR de idade.')"
   ]
  },
  {
   "cell_type": "code",
   "execution_count": 32,
   "metadata": {},
   "outputs": [
    {
     "name": "stdout",
     "output_type": "stream",
     "text": [
      "MAIOR de idade.\n"
     ]
    }
   ],
   "source": [
    "isMaiorDeIdade(18)"
   ]
  },
  {
   "cell_type": "code",
   "execution_count": 33,
   "metadata": {},
   "outputs": [
    {
     "name": "stdout",
     "output_type": "stream",
     "text": [
      "MENOR de idade.\n"
     ]
    }
   ],
   "source": [
    "isMaiorDeIdade(10)"
   ]
  },
  {
   "cell_type": "code",
   "execution_count": 41,
   "metadata": {},
   "outputs": [
    {
     "name": "stdout",
     "output_type": "stream",
     "text": [
      "MAIOR de idade.\n"
     ]
    }
   ],
   "source": [
    "# criando uma conversão simples\n",
    "def converteIdade():\n",
    "    idade = int('18')\n",
    "    if idade >= 18:\n",
    "        print('MAIOR de idade.')\n",
    "    else:\n",
    "        print('MENOR de idade.')\n",
    "\n",
    "converteIdade()"
   ]
  },
  {
   "cell_type": "code",
   "execution_count": null,
   "metadata": {},
   "outputs": [],
   "source": []
  }
 ],
 "metadata": {
  "kernelspec": {
   "display_name": "Python 3",
   "language": "python",
   "name": "python3"
  },
  "language_info": {
   "codemirror_mode": {
    "name": "ipython",
    "version": 3
   },
   "file_extension": ".py",
   "mimetype": "text/x-python",
   "name": "python",
   "nbconvert_exporter": "python",
   "pygments_lexer": "ipython3",
   "version": "3.8.2"
  }
 },
 "nbformat": 4,
 "nbformat_minor": 4
}
