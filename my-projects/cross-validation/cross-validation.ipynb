{
 "cells": [
  {
   "cell_type": "markdown",
   "metadata": {},
   "source": [
    "## Implementação da validação cruzada para avaliação de modelos\n",
    "\n",
    "### Introdução\n",
    "\n",
    "Nosso principal objetivo neste trabalho é apresentar a implementação da validação cruzada para avaliação de modelos de classificação. O modelo aqui empregado é o k-nearest neighbors (KNN), utilizado para classificar o dataset Pima Indian Diabetes. Este conjunto de dados possui 768 instâncias, sendo 500 da classe negativa (não possui diabetes) e 268 da classe positiva (possui diabetes)."
   ]
  },
  {
   "cell_type": "markdown",
   "metadata": {},
   "source": [
    "### Pré-requisitos\n",
    "\n",
    "Optamos em desenvolver o trabalho usando Python 3, Notebook Jupyter e algumas outras bibliotecas com o objetivo de deixar o desenvolvimento mais simples. Abaixo é possível observar todas as bibliotecas utilizadas."
   ]
  },
  {
   "cell_type": "code",
   "execution_count": 1,
   "metadata": {},
   "outputs": [],
   "source": [
    "# importando bibliotecas\n",
    "import pandas as pd\n",
    "from csv import reader\n",
    "from random import seed\n",
    "from random import randrange\n",
    "from math import sqrt\n",
    "import numpy as np\n",
    "import matplotlib.pyplot as plt"
   ]
  },
  {
   "cell_type": "markdown",
   "metadata": {},
   "source": [
    "### Preparação dos dados"
   ]
  },
  {
   "cell_type": "code",
   "execution_count": 2,
   "metadata": {},
   "outputs": [
    {
     "data": {
      "text/html": [
       "<div>\n",
       "<style scoped>\n",
       "    .dataframe tbody tr th:only-of-type {\n",
       "        vertical-align: middle;\n",
       "    }\n",
       "\n",
       "    .dataframe tbody tr th {\n",
       "        vertical-align: top;\n",
       "    }\n",
       "\n",
       "    .dataframe thead th {\n",
       "        text-align: right;\n",
       "    }\n",
       "</style>\n",
       "<table border=\"1\" class=\"dataframe\">\n",
       "  <thead>\n",
       "    <tr style=\"text-align: right;\">\n",
       "      <th></th>\n",
       "      <th>Pregnancies</th>\n",
       "      <th>Glucose</th>\n",
       "      <th>BloodPressure</th>\n",
       "      <th>SkinThickness</th>\n",
       "      <th>Insulin</th>\n",
       "      <th>BMI</th>\n",
       "      <th>DiabetesPedigreeFunction</th>\n",
       "      <th>Age</th>\n",
       "      <th>Outcome</th>\n",
       "    </tr>\n",
       "  </thead>\n",
       "  <tbody>\n",
       "    <tr>\n",
       "      <th>0</th>\n",
       "      <td>6</td>\n",
       "      <td>148</td>\n",
       "      <td>72</td>\n",
       "      <td>35</td>\n",
       "      <td>0</td>\n",
       "      <td>33.6</td>\n",
       "      <td>0.627</td>\n",
       "      <td>50</td>\n",
       "      <td>1</td>\n",
       "    </tr>\n",
       "    <tr>\n",
       "      <th>1</th>\n",
       "      <td>1</td>\n",
       "      <td>85</td>\n",
       "      <td>66</td>\n",
       "      <td>29</td>\n",
       "      <td>0</td>\n",
       "      <td>26.6</td>\n",
       "      <td>0.351</td>\n",
       "      <td>31</td>\n",
       "      <td>0</td>\n",
       "    </tr>\n",
       "    <tr>\n",
       "      <th>2</th>\n",
       "      <td>8</td>\n",
       "      <td>183</td>\n",
       "      <td>64</td>\n",
       "      <td>0</td>\n",
       "      <td>0</td>\n",
       "      <td>23.3</td>\n",
       "      <td>0.672</td>\n",
       "      <td>32</td>\n",
       "      <td>1</td>\n",
       "    </tr>\n",
       "    <tr>\n",
       "      <th>3</th>\n",
       "      <td>1</td>\n",
       "      <td>89</td>\n",
       "      <td>66</td>\n",
       "      <td>23</td>\n",
       "      <td>94</td>\n",
       "      <td>28.1</td>\n",
       "      <td>0.167</td>\n",
       "      <td>21</td>\n",
       "      <td>0</td>\n",
       "    </tr>\n",
       "    <tr>\n",
       "      <th>4</th>\n",
       "      <td>0</td>\n",
       "      <td>137</td>\n",
       "      <td>40</td>\n",
       "      <td>35</td>\n",
       "      <td>168</td>\n",
       "      <td>43.1</td>\n",
       "      <td>2.288</td>\n",
       "      <td>33</td>\n",
       "      <td>1</td>\n",
       "    </tr>\n",
       "  </tbody>\n",
       "</table>\n",
       "</div>"
      ],
      "text/plain": [
       "   Pregnancies  Glucose  BloodPressure  SkinThickness  Insulin   BMI  \\\n",
       "0            6      148             72             35        0  33.6   \n",
       "1            1       85             66             29        0  26.6   \n",
       "2            8      183             64              0        0  23.3   \n",
       "3            1       89             66             23       94  28.1   \n",
       "4            0      137             40             35      168  43.1   \n",
       "\n",
       "   DiabetesPedigreeFunction  Age  Outcome  \n",
       "0                     0.627   50        1  \n",
       "1                     0.351   31        0  \n",
       "2                     0.672   32        1  \n",
       "3                     0.167   21        0  \n",
       "4                     2.288   33        1  "
      ]
     },
     "execution_count": 2,
     "metadata": {},
     "output_type": "execute_result"
    }
   ],
   "source": [
    "# Realizando uma leitura simples do arquivo\n",
    "diabetes = pd.read_csv('diabetes.csv')\n",
    "\n",
    "# criando um dataset organizado \n",
    "def load_csv():\n",
    "    dataset = list()\n",
    "    with open('diabetes.csv', 'r') as file:\n",
    "        csv_reader = reader(file)\n",
    "        next(csv_reader) # ignorando o cabeçalho\n",
    "        for row in csv_reader:\n",
    "            if not row:\n",
    "                continue\n",
    "            dataset.append(row)\n",
    "    return dataset\n",
    "dataset = load_csv()\n",
    "\n",
    "# Apresentaodno cinco primeiras linhas do conjunto de dados original\n",
    "diabetes.head()"
   ]
  },
  {
   "cell_type": "code",
   "execution_count": 3,
   "metadata": {},
   "outputs": [
    {
     "data": {
      "text/plain": [
       "Pregnancies                 0\n",
       "Glucose                     0\n",
       "BloodPressure               0\n",
       "SkinThickness               0\n",
       "Insulin                     0\n",
       "BMI                         0\n",
       "DiabetesPedigreeFunction    0\n",
       "Age                         0\n",
       "Outcome                     0\n",
       "dtype: int64"
      ]
     },
     "execution_count": 3,
     "metadata": {},
     "output_type": "execute_result"
    }
   ],
   "source": [
    "# obtendo algumas informações sobre dados ausentes ou nulos\n",
    "diabetes.isna().sum()\n",
    "diabetes.isnull().sum()"
   ]
  },
  {
   "cell_type": "markdown",
   "metadata": {},
   "source": [
    "Com o resultado acima, conseguimos observar que não existem dados ausentes ou nulos. Entretanto, como mostra o histograma abaixo, conseguimos observar que existem outliers inesperados. Como por exemplo pressão arterial que em algumas amostras está com o valor zero. Sendo assim, precisamos realizar uma normalização/limpeza sobre os dados."
   ]
  },
  {
   "cell_type": "code",
   "execution_count": 4,
   "metadata": {},
   "outputs": [
    {
     "name": "stdout",
     "output_type": "stream",
     "text": [
      "Casos de amostras da pressão arterial com valor zero: 35\n",
      "Casos de amostras da Esp. da dobra cutânea com valor zero: 227\n"
     ]
    },
    {
     "data": {
      "image/png": "[encoded data removed]",
      "text/plain": [
       "<Figure size 720x720 with 9 Axes>"
      ]
     },
     "metadata": {
      "needs_background": "light"
     },
     "output_type": "display_data"
    }
   ],
   "source": [
    "# histograma\n",
    "diabetes.hist(figsize=(10, 10))\n",
    "\n",
    "print('Casos de amostras da pressão arterial com valor zero:', diabetes[diabetes.BloodPressure == 0].shape[0])\n",
    "print('Casos de amostras da Esp. da dobra cutânea com valor zero:', diabetes[diabetes.SkinThickness == 0].shape[0])"
   ]
  },
  {
   "cell_type": "markdown",
   "metadata": {},
   "source": [
    "Nossa primeira modificação sobre os dados é sobre a coluna espessura da pele (SkinThickness). Como é possível observar no histograma acima, existem alguns casos com valores zero, sabemos também que diabetes não tem relação direta com a espessura da pele. Nesse sentido, nossa decisão foi remover a coluna.\n",
    "\n"
   ]
  },
  {
   "cell_type": "code",
   "execution_count": 5,
   "metadata": {},
   "outputs": [],
   "source": [
    "\n",
    "# observamos que existem algunas casos com valores zero\n",
    "# em um modo geral, caos de diabetes não tem uma relação direta com "
   ]
  },
  {
   "cell_type": "code",
   "execution_count": null,
   "metadata": {},
   "outputs": [],
   "source": []
  },
  {
   "cell_type": "code",
   "execution_count": null,
   "metadata": {},
   "outputs": [],
   "source": []
  },
  {
   "cell_type": "code",
   "execution_count": null,
   "metadata": {},
   "outputs": [],
   "source": []
  },
  {
   "cell_type": "code",
   "execution_count": null,
   "metadata": {},
   "outputs": [],
   "source": []
  },
  {
   "cell_type": "code",
   "execution_count": null,
   "metadata": {},
   "outputs": [],
   "source": []
  },
  {
   "cell_type": "code",
   "execution_count": 6,
   "metadata": {},
   "outputs": [
    {
     "name": "stdout",
     "output_type": "stream",
     "text": [
      "[[34 21]\n",
      " [23 75]]\n",
      "[[26 29]\n",
      " [16 82]]\n",
      "[[27 32]\n",
      " [19 75]]\n",
      "[[29 26]\n",
      " [21 77]]\n",
      "[[26 18]\n",
      " [21 88]]\n",
      "[]\n",
      "   Acurácia    Recall  Precisão   f-score\n",
      "0  2.477273  0.596491  0.618182  0.607143\n",
      "1  2.400000  0.619048  0.472727  0.536082\n",
      "2  2.000000  0.586957  0.457627  0.514286\n",
      "3  2.255319  0.580000  0.527273  0.552381\n",
      "4  2.923077  0.553191  0.590909  0.571429\n",
      "\n",
      "Média da acurácia: 2.411%\n",
      "Média da Recall: 0.587%\n",
      "Média da Precisão: 0.533%\n",
      "Média da f-score: 0.556%\n",
      "Desvio padrão da acurácia: 30.33%\n",
      "Desvio padrão da Recall: 2.15%\n",
      "Desvio padrão da Precisão: 6.32%\n",
      "Desvio padrão da f-score: 3.16%\n"
     ]
    }
   ],
   "source": [
    "matrix = list()\n",
    "accuracy = list()\n",
    "recall = list()\n",
    "precision = list()\n",
    "score = list()\n",
    "\n",
    "# convertendo os valores para números\n",
    "def str_column_to_float(dataset, column):\n",
    "    for row in dataset:\n",
    "        row[column] = float(row[column].strip())\n",
    "\n",
    "# Calculate accuracy percentage\n",
    "def accuracy_metric(actual, predicted):\n",
    "    correct = 0\n",
    "    for i in range(len(actual)):\n",
    "        if actual[i] == predicted[i]:\n",
    "            correct += 1\n",
    "    return correct / float(len(actual)) * 100.0\n",
    "\n",
    "# Split a dataset into k folds\n",
    "def cross_validation_split(dataset, n_folds):\n",
    "    dataset_split = list()\n",
    "    dataset_copy = list(dataset)\n",
    "    fold_size = int(len(dataset) / n_folds)\n",
    "    for _ in range(n_folds):\n",
    "        fold = list()\n",
    "        while len(fold) < fold_size:\n",
    "            index = randrange(len(dataset_copy))\n",
    "            fold.append(dataset_copy.pop(index))\n",
    "        dataset_split.append(fold)\n",
    "    return dataset_split\n",
    "\n",
    "# Evaluate an algorithm using a cross validation split\n",
    "def evaluate_algorithm(dataset, algorithm, n_folds, *args):\n",
    "    folds = cross_validation_split(dataset, n_folds)\n",
    "    for fold in folds:\n",
    "        train_set = list(folds)\n",
    "        train_set.remove(fold)\n",
    "        train_set = sum(train_set, [])\n",
    "        test_set = list()\n",
    "        for row in fold:\n",
    "            row_copy = list(row)\n",
    "            test_set.append(row_copy)\n",
    "            row_copy[-1] = None\n",
    "        predicted = algorithm(train_set, test_set, *args)\n",
    "        actual = [row[-1] for row in fold]\n",
    "        classification_report(actual, predicted) # criando relatórios de métricas \n",
    "     \n",
    "# Calculate the Euclidean distance between two vectors\n",
    "def euclidean_distance(row1, row2):\n",
    "    distance = 0.0\n",
    "    for i in range(len(row1)-1):\n",
    "        distance += (row1[i] - row2[i])**2\n",
    "    return sqrt(distance)\n",
    "\n",
    "# Locate the most similar neighbors\n",
    "def get_neighbors(train, test_row, num_neighbors):\n",
    "    distances = list()\n",
    "    for train_row in train:\n",
    "        dist = euclidean_distance(test_row, train_row)\n",
    "        distances.append((train_row, dist))\n",
    "    distances.sort(key=lambda tup: tup[1])\n",
    "    neighbors = list()\n",
    "    for i in range(num_neighbors):\n",
    "        neighbors.append(distances[i][0])\n",
    "    return neighbors\n",
    " \n",
    "# Make a prediction with neighbors\n",
    "def predict_classification(train, test_row, num_neighbors):\n",
    "    neighbors = get_neighbors(train, test_row, num_neighbors)\n",
    "    output_values = [row[-1] for row in neighbors]\n",
    "    prediction = max(set(output_values), key=output_values.count)\n",
    "    return prediction\n",
    "\n",
    "def k_nearest_neighbors(train, test, num_neighbors):\n",
    "    predictions = list()\n",
    "    for row in test:\n",
    "        output = predict_classification(train, row, num_neighbors)\n",
    "        predictions.append(output)\n",
    "    return(predictions)\n",
    "\n",
    "\n",
    "def get_confusion_matrix(reais, preditos):\n",
    "    # considerando a primeira classe como a positiva, e a segunda a negativa\n",
    "    true_class = 1\n",
    "    negative_class = 0\n",
    "    # valores preditos corretamente\n",
    "    tp = 0\n",
    "    tn = 0\n",
    "    # valores preditos incorretamente\n",
    "    fp = 0\n",
    "    fn = 0\n",
    "    \n",
    "    for (indice, v_real) in enumerate(reais):\n",
    "        v_predito = preditos[indice]\n",
    "        # se trata de um valor real da classe positiva\n",
    "        if v_real == true_class:\n",
    "            tp += 1 if v_predito == v_real else 0\n",
    "            fp += 1 if v_predito != v_real else 0\n",
    "        else:\n",
    "            tn += 1 if v_predito == v_real else 0\n",
    "            fn += 1 if v_predito != v_real else 0\n",
    "            \n",
    "            \n",
    "    accuracy.append((tp+tn)/(fp+fn))\n",
    "    recall.append(tp/(tp+fn))\n",
    "    precision.append(tp/(tp+fp))\n",
    "    score.append(2*tp/(2*tp+fp+fn))\n",
    "    \n",
    "    \n",
    "    return np.array([\n",
    "        # valores da classe positiva\n",
    "        [ tp, fp ],\n",
    "        # valores da classe negativa\n",
    "        [ fn, tn ]\n",
    "    ])\n",
    "\n",
    "def classification_report(actual, predicted):\n",
    "    print(get_confusion_matrix(actual, predicted))\n",
    "\n",
    "dataset = load_csv()\n",
    "for i in range(len(dataset[0])):\n",
    "    str_column_to_float(dataset, i)\n",
    "n_folds = 5\n",
    "num_neighbors = 5\n",
    "evaluate_algorithm(dataset, k_nearest_neighbors, n_folds, num_neighbors)\n",
    "\n",
    "print(matrix)\n",
    "\n",
    "data = {'Acurácia':accuracy, 'Recall': recall, 'Precisão':precision, 'f-score':score}\n",
    "print(pd.DataFrame(data))\n",
    "print('')\n",
    "print('Média da acurácia: %.3f%%' % (sum(accuracy)/float(len(accuracy))))\n",
    "print('Média da Recall: %.3f%%' % (sum(recall)/float(len(recall))))\n",
    "print('Média da Precisão: %.3f%%' % (sum(precision)/float(len(precision))))\n",
    "print('Média da f-score: %.3f%%' % (sum(score)/float(len(score))))\n",
    "print(\"Desvio padrão da acurácia: {:.2f}%\".format(np.std(accuracy)*100))\n",
    "print(\"Desvio padrão da Recall: {:.2f}%\".format(np.std(recall)*100))\n",
    "print(\"Desvio padrão da Precisão: {:.2f}%\".format(np.std(precision)*100))\n",
    "print(\"Desvio padrão da f-score: {:.2f}%\".format(np.std(score)*100))"
   ]
  },
  {
   "cell_type": "code",
   "execution_count": null,
   "metadata": {},
   "outputs": [],
   "source": []
  }
 ],
 "metadata": {
  "kernelspec": {
   "display_name": "Python 3",
   "language": "python",
   "name": "python3"
  },
  "language_info": {
   "codemirror_mode": {
    "name": "ipython",
    "version": 3
   },
   "file_extension": ".py",
   "mimetype": "text/x-python",
   "name": "python",
   "nbconvert_exporter": "python",
   "pygments_lexer": "ipython3",
   "version": "3.8.2"
  }
 },
 "nbformat": 4,
 "nbformat_minor": 4
}
