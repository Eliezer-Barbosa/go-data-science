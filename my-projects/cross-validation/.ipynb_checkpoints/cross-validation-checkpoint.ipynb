{
 "cells": [
  {
   "cell_type": "markdown",
   "metadata": {},
   "source": [
    "## Implementação da validação cruzada para avaliação de modelos\n",
    "\n",
    "Emanoel Aurelio Vianna Fabiano - vianna.emanoel@gmail.com\n",
    "\n",
    "### Introdução\n",
    "\n",
    "Nosso principal objetivo neste trabalho é apresentar a implementação da validação cruzada para avaliação de modelos de classificação. O modelo aqui empregado é o k-nearest neighbors (KNN), utilizado para classificar o dataset Pima Indian Diabetes. Este conjunto de dados possui 768 instâncias, sendo 500 da classe negativa (não possui diabetes) e 268 da classe positiva (possui diabetes)."
   ]
  },
  {
   "cell_type": "markdown",
   "metadata": {},
   "source": [
    "### Pré-requisitos\n",
    "\n",
    "Optamos em desenvolver o trabalho usando Python 3, Notebook Jupyter e algumas outras bibliotecas com o objetivo de deixar o desenvolvimento mais simples. Abaixo é possível observar todas as bibliotecas utilizadas."
   ]
  },
  {
   "cell_type": "code",
   "execution_count": 1,
   "metadata": {},
   "outputs": [],
   "source": [
    "# importando bibliotecas\n",
    "import pandas as pd\n",
    "from csv import reader\n",
    "from random import seed\n",
    "from random import randrange\n",
    "from math import sqrt\n",
    "import numpy as np\n",
    "import matplotlib.pyplot as plt"
   ]
  },
  {
   "cell_type": "markdown",
   "metadata": {},
   "source": [
    "### Preparação dos dados\n",
    "\n",
    "Nossa primeira etapa será entender o que está armazenado no dataset, para isso, realizamos algumas análises e desenvolvemos alguns gráficos que podem ser observados abaixo. Nessa etapa também é realizada algumas alterações sobre o dataset com o objetivo de prepará-lo para treinamento posterior."
   ]
  },
  {
   "cell_type": "code",
   "execution_count": 2,
   "metadata": {},
   "outputs": [
    {
     "data": {
      "text/html": [
       "<div>\n",
       "<style scoped>\n",
       "    .dataframe tbody tr th:only-of-type {\n",
       "        vertical-align: middle;\n",
       "    }\n",
       "\n",
       "    .dataframe tbody tr th {\n",
       "        vertical-align: top;\n",
       "    }\n",
       "\n",
       "    .dataframe thead th {\n",
       "        text-align: right;\n",
       "    }\n",
       "</style>\n",
       "<table border=\"1\" class=\"dataframe\">\n",
       "  <thead>\n",
       "    <tr style=\"text-align: right;\">\n",
       "      <th></th>\n",
       "      <th>Pregnancies</th>\n",
       "      <th>Glucose</th>\n",
       "      <th>BloodPressure</th>\n",
       "      <th>SkinThickness</th>\n",
       "      <th>Insulin</th>\n",
       "      <th>BMI</th>\n",
       "      <th>DiabetesPedigreeFunction</th>\n",
       "      <th>Age</th>\n",
       "      <th>Outcome</th>\n",
       "    </tr>\n",
       "  </thead>\n",
       "  <tbody>\n",
       "    <tr>\n",
       "      <th>0</th>\n",
       "      <td>6</td>\n",
       "      <td>148</td>\n",
       "      <td>72</td>\n",
       "      <td>35</td>\n",
       "      <td>0</td>\n",
       "      <td>33.6</td>\n",
       "      <td>0.627</td>\n",
       "      <td>50</td>\n",
       "      <td>1</td>\n",
       "    </tr>\n",
       "    <tr>\n",
       "      <th>1</th>\n",
       "      <td>1</td>\n",
       "      <td>85</td>\n",
       "      <td>66</td>\n",
       "      <td>29</td>\n",
       "      <td>0</td>\n",
       "      <td>26.6</td>\n",
       "      <td>0.351</td>\n",
       "      <td>31</td>\n",
       "      <td>0</td>\n",
       "    </tr>\n",
       "    <tr>\n",
       "      <th>2</th>\n",
       "      <td>8</td>\n",
       "      <td>183</td>\n",
       "      <td>64</td>\n",
       "      <td>0</td>\n",
       "      <td>0</td>\n",
       "      <td>23.3</td>\n",
       "      <td>0.672</td>\n",
       "      <td>32</td>\n",
       "      <td>1</td>\n",
       "    </tr>\n",
       "    <tr>\n",
       "      <th>3</th>\n",
       "      <td>1</td>\n",
       "      <td>89</td>\n",
       "      <td>66</td>\n",
       "      <td>23</td>\n",
       "      <td>94</td>\n",
       "      <td>28.1</td>\n",
       "      <td>0.167</td>\n",
       "      <td>21</td>\n",
       "      <td>0</td>\n",
       "    </tr>\n",
       "    <tr>\n",
       "      <th>4</th>\n",
       "      <td>0</td>\n",
       "      <td>137</td>\n",
       "      <td>40</td>\n",
       "      <td>35</td>\n",
       "      <td>168</td>\n",
       "      <td>43.1</td>\n",
       "      <td>2.288</td>\n",
       "      <td>33</td>\n",
       "      <td>1</td>\n",
       "    </tr>\n",
       "  </tbody>\n",
       "</table>\n",
       "</div>"
      ],
      "text/plain": [
       "   Pregnancies  Glucose  BloodPressure  SkinThickness  Insulin   BMI  \\\n",
       "0            6      148             72             35        0  33.6   \n",
       "1            1       85             66             29        0  26.6   \n",
       "2            8      183             64              0        0  23.3   \n",
       "3            1       89             66             23       94  28.1   \n",
       "4            0      137             40             35      168  43.1   \n",
       "\n",
       "   DiabetesPedigreeFunction  Age  Outcome  \n",
       "0                     0.627   50        1  \n",
       "1                     0.351   31        0  \n",
       "2                     0.672   32        1  \n",
       "3                     0.167   21        0  \n",
       "4                     2.288   33        1  "
      ]
     },
     "execution_count": 2,
     "metadata": {},
     "output_type": "execute_result"
    }
   ],
   "source": [
    "# criando um dataset organizado para uso posterior\n",
    "def load_csv():\n",
    "    dataset = list()\n",
    "    with open('diabetes.csv', 'r') as file:\n",
    "        csv_reader = reader(file)\n",
    "        next(csv_reader) # ignorando o cabeçalho\n",
    "        for row in csv_reader:\n",
    "            if not row:\n",
    "                continue\n",
    "            dataset.append(row)\n",
    "    return dataset\n",
    "dataset = load_csv()\n",
    "\n",
    "# Realizando uma leitura simples do arquivo\n",
    "diabetes = pd.read_csv('diabetes.csv')\n",
    "\n",
    "# Apresentaodno cinco primeiras linhas do conjunto de dados original\n",
    "diabetes.head()"
   ]
  },
  {
   "cell_type": "markdown",
   "metadata": {},
   "source": [
    "Nesse momento, achamos importante entender melhor a distribuição dos casos positivos e negativos. Para isso, apresentamos o gráfico abaixo, onde conseguimos observar essa distribuição."
   ]
  },
  {
   "cell_type": "code",
   "execution_count": 3,
   "metadata": {
    "scrolled": true
   },
   "outputs": [
    {
     "data": {
      "image/png": "[encoded data removed]",
      "text/plain": [
       "<Figure size 432x432 with 1 Axes>"
      ]
     },
     "metadata": {},
     "output_type": "display_data"
    }
   ],
   "source": [
    "positivos = len(diabetes[diabetes.Outcome == 1])\n",
    "negativos = len(diabetes[diabetes.Outcome == 0])\n",
    "\n",
    "# criando o gráfico\n",
    "labels = 'Casos positivos', 'Casos negativos'\n",
    "sizes = [positivos, negativos]\n",
    "fig1, ax1 = plt.subplots(figsize=(6, 6))\n",
    "ax1.pie(sizes, labels=labels, autopct='%1.1f%%', shadow=True, startangle=90)\n",
    "plt.show()"
   ]
  },
  {
   "cell_type": "code",
   "execution_count": 4,
   "metadata": {},
   "outputs": [
    {
     "data": {
      "text/plain": [
       "Pregnancies                 0\n",
       "Glucose                     0\n",
       "BloodPressure               0\n",
       "SkinThickness               0\n",
       "Insulin                     0\n",
       "BMI                         0\n",
       "DiabetesPedigreeFunction    0\n",
       "Age                         0\n",
       "Outcome                     0\n",
       "dtype: int64"
      ]
     },
     "execution_count": 4,
     "metadata": {},
     "output_type": "execute_result"
    }
   ],
   "source": [
    "# obtendo algumas informações sobre dados ausentes ou nulos\n",
    "diabetes.isna().sum()\n",
    "diabetes.isnull().sum()"
   ]
  },
  {
   "cell_type": "markdown",
   "metadata": {},
   "source": [
    "Com o resultado acima, conseguimos observar que não existem dados ausentes ou nulos. Entretanto, como mostra o histograma abaixo, conseguimos observar que existem outliers inesperados. Como por exemplo pressão arterial que em algumas amostras está com o valor zero. Sendo assim, precisamos realizar uma normalização/limpeza sobre os dados."
   ]
  },
  {
   "cell_type": "code",
   "execution_count": 5,
   "metadata": {},
   "outputs": [
    {
     "name": "stdout",
     "output_type": "stream",
     "text": [
      "Casos de amostras com valores zero:\n",
      "\n",
      "Pregnancies: 111\n",
      "Glucose: 5\n",
      "BloodPressure: 35\n",
      "SkinThickness: 227\n",
      "Insulin: 374\n",
      "BMI: 11\n",
      "DiabetesPedigreeFunction: 0\n",
      "Age: 0\n"
     ]
    },
    {
     "data": {
      "image/png": "[encoded data removed]",
      "text/plain": [
       "<Figure size 720x720 with 9 Axes>"
      ]
     },
     "metadata": {
      "needs_background": "light"
     },
     "output_type": "display_data"
    }
   ],
   "source": [
    "# histograma\n",
    "diabetes.hist(figsize=(10, 10))\n",
    "\n",
    "print('Casos de amostras com valores zero:\\n')\n",
    "print('Pregnancies:', diabetes[diabetes.Pregnancies == 0].shape[0])\n",
    "print('Glucose:', diabetes[diabetes.Glucose == 0].shape[0])\n",
    "print('BloodPressure:', diabetes[diabetes.BloodPressure == 0].shape[0])\n",
    "print('SkinThickness:', diabetes[diabetes.SkinThickness == 0].shape[0])\n",
    "print('Insulin:', diabetes[diabetes.Insulin == 0].shape[0])\n",
    "print('BMI:', diabetes[diabetes.BMI == 0].shape[0])\n",
    "print('DiabetesPedigreeFunction:', diabetes[diabetes.DiabetesPedigreeFunction == 0].shape[0])\n",
    "print('Age:', diabetes[diabetes.Age == 0].shape[0])"
   ]
  },
  {
   "cell_type": "markdown",
   "metadata": {},
   "source": [
    "Nossa primeira modificação sobre os dados é sobre a coluna espessura da pele (SkinThickness). Como é possível observar no histograma acima, existem alguns casos com valores zero. Sabemos que possuir diabetes não tem relação direta com a espessura da pele. Nesse sentido, acreditamos que a melhor decisão é a sua remoção da coluna.\n",
    "\n"
   ]
  },
  {
   "cell_type": "code",
   "execution_count": 6,
   "metadata": {},
   "outputs": [],
   "source": [
    "# removendo a coluna SkinThickness do nosso dataset\n",
    "for row in dataset:\n",
    "    del row[3]"
   ]
  },
  {
   "cell_type": "markdown",
   "metadata": {},
   "source": [
    "Para os demais valores iguais a zero, optamos em imputar a média de valores registrados"
   ]
  },
  {
   "cell_type": "code",
   "execution_count": 7,
   "metadata": {},
   "outputs": [],
   "source": [
    "# converte string para float ou int\n",
    "def num(s):\n",
    "    try:\n",
    "        return int(s)\n",
    "    except ValueError:\n",
    "        return float(s)\n",
    "\n",
    "def to_number(dataset, column):\n",
    "    for row in dataset:\n",
    "        row[column] = num(row[column].strip())\n",
    "\n",
    "for i in range(len(dataset[0])):\n",
    "    to_number(dataset, i) \n",
    "\n",
    "# calculando a media\n",
    "def mean_calculation(amount, size):\n",
    "    return amount/size\n",
    "\n",
    "# imputando valores no dataset\n",
    "amount = 0\n",
    "size = 768\n",
    "for i in range(len(dataset[0])-1):\n",
    "    for row in dataset:\n",
    "        amount += row[i]\n",
    "    for row in dataset:\n",
    "        if(row[i] == 0):\n",
    "            row[i] = mean_calculation(amount, size)\n",
    "    amount = 0"
   ]
  },
  {
   "cell_type": "markdown",
   "metadata": {},
   "source": [
    "### Desenvolvimento de códigos auxiliares"
   ]
  },
  {
   "cell_type": "code",
   "execution_count": 8,
   "metadata": {},
   "outputs": [],
   "source": [
    "# declarações das listas que irão ser utilizadas nos cálculos das métricas\n",
    "matrix = list()\n",
    "accuracy = list()\n",
    "recall = list()\n",
    "precision = list()\n",
    "score = list()\n",
    "        \n",
    "# calculo da distancia entre dois vetores\n",
    "def euclidean_distance(row1, row2):\n",
    "    distance = 0.0\n",
    "    for i in range(len(row1)-1):\n",
    "        distance += (row1[i] - row2[i])**2\n",
    "    return sqrt(distance)\n",
    "\n",
    "def classification_report(reais, preditos):\n",
    "    # definindo as classes\n",
    "    true_class = 1\n",
    "    negative_class = 0\n",
    "    # declarando a frêquencia\n",
    "    tp = 0\n",
    "    tn = 0\n",
    "    fp = 0\n",
    "    fn = 0\n",
    "    \n",
    "    # criando a matriz de confusão\n",
    "    for (indice, v_real) in enumerate(reais):\n",
    "        v_predito = preditos[indice]\n",
    "        # se trata de um valor real da classe positiva\n",
    "        if v_real == true_class:\n",
    "            tp += 1 if v_predito == v_real else 0\n",
    "            fp += 1 if v_predito != v_real else 0\n",
    "        else:\n",
    "            tn += 1 if v_predito == v_real else 0\n",
    "            fn += 1 if v_predito != v_real else 0\n",
    "            \n",
    "    # calculando os valores de frêquencia\n",
    "    accuracy.append((tp+tn)/(tp+fp+tn+fn))\n",
    "    recall.append(tp/(tp+fn))\n",
    "    precision.append(tp/(tp+fp))\n",
    "    score.append(2*tp/(2*tp+fp+fn))\n",
    "    \n",
    "    # desenhando a matriz de confusão\n",
    "    print(np.array([\n",
    "        [ tp, fp ],\n",
    "        [ fn, tn ]\n",
    "    ]))"
   ]
  },
  {
   "cell_type": "markdown",
   "metadata": {},
   "source": [
    "### Desenvolvimento dos algoritmos"
   ]
  },
  {
   "cell_type": "code",
   "execution_count": 9,
   "metadata": {},
   "outputs": [],
   "source": [
    "# dividindo o dataset em k dobras\n",
    "def cross_validation_split(dataset, n_folds):\n",
    "    dataset_split = list()\n",
    "    dataset_copy = list(dataset)\n",
    "    fold_size = int(len(dataset) / n_folds)\n",
    "    for _ in range(n_folds):\n",
    "        fold = list()\n",
    "        while len(fold) < fold_size:\n",
    "            index = randrange(len(dataset_copy))\n",
    "            fold.append(dataset_copy.pop(index))\n",
    "        dataset_split.append(fold)\n",
    "    return dataset_split\n",
    "\n",
    "# obter os vizinhos mais semelhantes\n",
    "def get_neighbors(train, test_row, num_neighbors):\n",
    "    distances = list()\n",
    "    for train_row in train:\n",
    "        dist = euclidean_distance(test_row, train_row)\n",
    "        distances.append((train_row, dist))\n",
    "    distances.sort(key=lambda tup: tup[1])\n",
    "    neighbors = list()\n",
    "    for i in range(num_neighbors):\n",
    "        neighbors.append(distances[i][0])\n",
    "    return neighbors\n",
    " \n",
    "# previsão com os vizinhos\n",
    "def predict_classification(train, test_row, num_neighbors):\n",
    "    neighbors = get_neighbors(train, test_row, num_neighbors)\n",
    "    output_values = [row[-1] for row in neighbors]\n",
    "    prediction = max(set(output_values), key=output_values.count)\n",
    "    return prediction\n",
    "\n",
    "# algoritmo knn\n",
    "def k_nearest_neighbors(train, test, num_neighbors):\n",
    "    predictions = list()\n",
    "    for row in test:\n",
    "        output = predict_classification(train, row, num_neighbors)\n",
    "        predictions.append(output)\n",
    "    return(predictions)\n",
    "\n",
    "# aplicação principal\n",
    "def evaluate_algorithm(dataset, algorithm, n_folds, *args):\n",
    "    folds = cross_validation_split(dataset, n_folds)\n",
    "    k = 0\n",
    "    for fold in folds:\n",
    "        train_set = list(folds)\n",
    "        train_set.remove(fold)\n",
    "        train_set = sum(train_set, [])\n",
    "        test_set = list()\n",
    "        for row in fold:\n",
    "            row_copy = list(row)\n",
    "            test_set.append(row_copy)\n",
    "            row_copy[-1] = None\n",
    "        predicted = algorithm(train_set, test_set, *args)\n",
    "        actual = [row[-1] for row in fold]\n",
    "        print('matriz de confusão para k: ', k)\n",
    "        classification_report(actual, predicted) # criando relatórios de métricas\n",
    "        print('')\n",
    "        k = k + 1"
   ]
  },
  {
   "cell_type": "markdown",
   "metadata": {},
   "source": [
    "### Execução dos algoritmos e apresentação dos resultados alcançados"
   ]
  },
  {
   "cell_type": "code",
   "execution_count": 10,
   "metadata": {},
   "outputs": [
    {
     "name": "stdout",
     "output_type": "stream",
     "text": [
      "matriz de confusão para k:  0\n",
      "[[25 27]\n",
      " [21 80]]\n",
      "\n",
      "matriz de confusão para k:  1\n",
      "[[35 23]\n",
      " [14 81]]\n",
      "\n",
      "matriz de confusão para k:  2\n",
      "[[28 21]\n",
      " [24 80]]\n",
      "\n",
      "matriz de confusão para k:  3\n",
      "[[30 27]\n",
      " [16 80]]\n",
      "\n",
      "matriz de confusão para k:  4\n",
      "[[26 26]\n",
      " [29 72]]\n",
      "\n",
      "   Acurácia    Recall  Precisão   f-score\n",
      "0  0.686275  0.543478  0.480769  0.510204\n",
      "1  0.758170  0.714286  0.603448  0.654206\n",
      "2  0.705882  0.538462  0.571429  0.554455\n",
      "3  0.718954  0.652174  0.526316  0.582524\n",
      "4  0.640523  0.472727  0.500000  0.485981\n",
      "\n",
      "Média da acurácia: 0.702%\n",
      "Média da Recall: 0.584%\n",
      "Média da Precisão: 0.536%\n",
      "Média da f-score: 0.557%\n",
      "\n",
      "Desvio padrão da acurácia: 3.87%\n",
      "Desvio padrão da Recall: 8.69%\n",
      "Desvio padrão da Precisão: 4.53%\n",
      "Desvio padrão da f-score: 5.89%\n"
     ]
    }
   ],
   "source": [
    "# execução dos algoritmos desenvolvidos\n",
    "n_folds = 5\n",
    "num_neighbors = 5\n",
    "evaluate_algorithm(dataset, k_nearest_neighbors, n_folds, num_neighbors)\n",
    "\n",
    "# apresentação das métricas\n",
    "data = {'Acurácia':accuracy, 'Recall': recall, 'Precisão':precision, 'f-score':score}\n",
    "print(pd.DataFrame(data))\n",
    "print('')\n",
    "print('Média da acurácia: %.3f%%' % (sum(accuracy)/float(len(accuracy))))\n",
    "print('Média da Recall: %.3f%%' % (sum(recall)/float(len(recall))))\n",
    "print('Média da Precisão: %.3f%%' % (sum(precision)/float(len(precision))))\n",
    "print('Média da f-score: %.3f%%' % (sum(score)/float(len(score))))\n",
    "print('')\n",
    "print(\"Desvio padrão da acurácia: {:.2f}%\".format(np.std(accuracy)*100))\n",
    "print(\"Desvio padrão da Recall: {:.2f}%\".format(np.std(recall)*100))\n",
    "print(\"Desvio padrão da Precisão: {:.2f}%\".format(np.std(precision)*100))\n",
    "print(\"Desvio padrão da f-score: {:.2f}%\".format(np.std(score)*100))"
   ]
  },
  {
   "cell_type": "markdown",
   "metadata": {},
   "source": [
    "### Discussão"
   ]
  },
  {
   "cell_type": "markdown",
   "metadata": {},
   "source": [
    "### Referências\n",
    "\n",
    "1. [Better Heatmaps and Correlation Matrix Plots in Python](https://towardsdatascience.com/better-heatmaps-and-correlation-matrix-plots-in-python-41445d0f2bec)\n",
    "2. [Dicas e truques de aprendizado de máquina](https://stanford.edu/~shervine/l/pt/teaching/cs-229/dicas-truques-aprendizado-maquina)\n",
    "3. [k-Nearest Neighbors](https://tomaszgolan.github.io/introduction_to_machine_learning/markdown/introduction_to_machine_learning_01_knn/introduction_to_machine_learning_01_knn/)\n",
    "4. [Cross-Validation](https://www.ritchieng.com/machine-learning-cross-validation/#Topics)\n"
   ]
  }
 ],
 "metadata": {
  "kernelspec": {
   "display_name": "Python 3",
   "language": "python",
   "name": "python3"
  },
  "language_info": {
   "codemirror_mode": {
    "name": "ipython",
    "version": 3
   },
   "file_extension": ".py",
   "mimetype": "text/x-python",
   "name": "python",
   "nbconvert_exporter": "python",
   "pygments_lexer": "ipython3",
   "version": "3.8.2"
  }
 },
 "nbformat": 4,
 "nbformat_minor": 4
}
