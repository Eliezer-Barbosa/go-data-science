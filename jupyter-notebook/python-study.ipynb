{
 "cells": [
  {
   "cell_type": "markdown",
   "metadata": {},
   "source": [
    "## Primeiros passos em Python"
   ]
  },
  {
   "cell_type": "markdown",
   "metadata": {},
   "source": [
    "### Lógica básica e definições da linguagem"
   ]
  },
  {
   "cell_type": "code",
   "execution_count": 4,
   "metadata": {},
   "outputs": [
    {
     "data": {
      "text/plain": [
       "4"
      ]
     },
     "execution_count": 4,
     "metadata": {},
     "output_type": "execute_result"
    }
   ],
   "source": [
    "# Python consegue interpretar operações matematicas\n",
    "2+2"
   ]
  },
  {
   "cell_type": "code",
   "execution_count": 5,
   "metadata": {},
   "outputs": [
    {
     "data": {
      "text/plain": [
       "'Emanoel'"
      ]
     },
     "execution_count": 5,
     "metadata": {},
     "output_type": "execute_result"
    }
   ],
   "source": [
    "# Python também consegue definir tipos como String\n",
    "# seguindo a definição da comunidade, utilizamos apas simples\n",
    "'Emanoel'"
   ]
  },
  {
   "cell_type": "code",
   "execution_count": 6,
   "metadata": {},
   "outputs": [],
   "source": [
    "# a declaração das variaveis diferente de muitas linguagens, não possui tipos definidos\n",
    "name = 'Emanoel'"
   ]
  },
  {
   "cell_type": "code",
   "execution_count": 11,
   "metadata": {},
   "outputs": [
    {
     "name": "stdout",
     "output_type": "stream",
     "text": [
      "Nome: Emanoel\n"
     ]
    }
   ],
   "source": [
    "# print é uma função já pre definida em Python\n",
    "print('Nome: ' + name) # concatenando a variavel name definida anteriormente"
   ]
  },
  {
   "cell_type": "code",
   "execution_count": 101,
   "metadata": {},
   "outputs": [],
   "source": [
    "# implementando uma função simples\n",
    "def define_nome():\n",
    "    name = input('Informe um nome: ')\n",
    "    print('Olá: ' + name)"
   ]
  },
  {
   "cell_type": "code",
   "execution_count": 102,
   "metadata": {},
   "outputs": [
    {
     "name": "stdout",
     "output_type": "stream",
     "text": [
      "Informe um nome: Emanoel\n",
      "Olá: Emanoel\n"
     ]
    }
   ],
   "source": [
    "define_nome()"
   ]
  },
  {
   "cell_type": "code",
   "execution_count": 103,
   "metadata": {},
   "outputs": [],
   "source": [
    "# passagem de parametros para funções em Python\n",
    "def recebe_nome(nome):\n",
    "    print('Olá ' + nome)"
   ]
  },
  {
   "cell_type": "code",
   "execution_count": 23,
   "metadata": {},
   "outputs": [
    {
     "name": "stdout",
     "output_type": "stream",
     "text": [
      "Olá Pedro\n"
     ]
    }
   ],
   "source": [
    "recebeNome('Pedro')"
   ]
  },
  {
   "cell_type": "code",
   "execution_count": 31,
   "metadata": {},
   "outputs": [],
   "source": [
    "# usando condicionais em Python\n",
    "def isMaiorDeIdade(idade):\n",
    "    if idade >= 18:\n",
    "        print('MAIOR de idade.')\n",
    "    else:\n",
    "        print('MENOR de idade.')"
   ]
  },
  {
   "cell_type": "code",
   "execution_count": 32,
   "metadata": {},
   "outputs": [
    {
     "name": "stdout",
     "output_type": "stream",
     "text": [
      "MAIOR de idade.\n"
     ]
    }
   ],
   "source": [
    "isMaiorDeIdade(18)"
   ]
  },
  {
   "cell_type": "code",
   "execution_count": 33,
   "metadata": {},
   "outputs": [
    {
     "name": "stdout",
     "output_type": "stream",
     "text": [
      "MENOR de idade.\n"
     ]
    }
   ],
   "source": [
    "isMaiorDeIdade(10)"
   ]
  },
  {
   "cell_type": "code",
   "execution_count": 100,
   "metadata": {},
   "outputs": [
    {
     "name": "stdout",
     "output_type": "stream",
     "text": [
      "MAIOR de idade.\n"
     ]
    }
   ],
   "source": [
    "# criando uma conversão simples do tipo String para \n",
    "def converte_idade():\n",
    "    idade = int('18')\n",
    "    if idade >= 18:\n",
    "        print('MAIOR de idade.')\n",
    "    else:\n",
    "        print('MENOR de idade.')\n",
    "\n",
    "converte_idade()"
   ]
  },
  {
   "cell_type": "code",
   "execution_count": 44,
   "metadata": {},
   "outputs": [
    {
     "data": {
      "text/plain": [
       "list"
      ]
     },
     "execution_count": 44,
     "metadata": {},
     "output_type": "execute_result"
    }
   ],
   "source": [
    "# para armazenar uma serie de elementos usamos listas\n",
    "idades = [21, 18, 15, 50]\n",
    "type(idades) # função já implementada no python que informa o tipo da variavel"
   ]
  },
  {
   "cell_type": "code",
   "execution_count": 46,
   "metadata": {},
   "outputs": [
    {
     "data": {
      "text/plain": [
       "15"
      ]
     },
     "execution_count": 46,
     "metadata": {},
     "output_type": "execute_result"
    }
   ],
   "source": [
    "# obtendo um valor da lista definida anteriormente\n",
    "idades[2] # o indice começa em zero "
   ]
  },
  {
   "cell_type": "code",
   "execution_count": 49,
   "metadata": {},
   "outputs": [
    {
     "data": {
      "text/plain": [
       "50"
      ]
     },
     "execution_count": 49,
     "metadata": {},
     "output_type": "execute_result"
    }
   ],
   "source": [
    "# abaixo algumas características das listas em Python\n",
    "idades[-1] # obtendo o ultimo elemento da lista"
   ]
  },
  {
   "cell_type": "code",
   "execution_count": 51,
   "metadata": {},
   "outputs": [
    {
     "data": {
      "text/plain": [
       "[21, 18, 15]"
      ]
     },
     "execution_count": 51,
     "metadata": {},
     "output_type": "execute_result"
    }
   ],
   "source": [
    "idades[0:3] # removendo os elementos após o terceiro elemento.."
   ]
  },
  {
   "cell_type": "code",
   "execution_count": 52,
   "metadata": {},
   "outputs": [
    {
     "data": {
      "text/plain": [
       "[21, 18, 15, 50]"
      ]
     },
     "execution_count": 52,
     "metadata": {},
     "output_type": "execute_result"
    }
   ],
   "source": [
    "idades[0:] # imprimindo todos os elementos da lista"
   ]
  },
  {
   "cell_type": "code",
   "execution_count": 98,
   "metadata": {},
   "outputs": [],
   "source": [
    "# criando um laço/loop\n",
    "def is_maior_de_idade():\n",
    "    for idade in idades:\n",
    "        if idade >= 18:\n",
    "            print(f'{idade} é MAIOR de idade.')\n",
    "        else:\n",
    "            print(f'{idade} é MENOR de idade.')"
   ]
  },
  {
   "cell_type": "code",
   "execution_count": 99,
   "metadata": {},
   "outputs": [
    {
     "name": "stdout",
     "output_type": "stream",
     "text": [
      "21 é MAIOR de idade.\n",
      "18 é MAIOR de idade.\n",
      "15 é MENOR de idade.\n",
      "50 é MAIOR de idade.\n"
     ]
    }
   ],
   "source": [
    "is_maior_de_idade()"
   ]
  },
  {
   "cell_type": "code",
   "execution_count": 78,
   "metadata": {},
   "outputs": [
    {
     "data": {
      "text/plain": [
       "False"
      ]
     },
     "execution_count": 78,
     "metadata": {},
     "output_type": "execute_result"
    }
   ],
   "source": [
    "# booleanos (verdadeiro/falso)\n",
    "18 >= 18"
   ]
  },
  {
   "cell_type": "code",
   "execution_count": 79,
   "metadata": {},
   "outputs": [
    {
     "data": {
      "text/plain": [
       "False"
      ]
     },
     "execution_count": 79,
     "metadata": {},
     "output_type": "execute_result"
    }
   ],
   "source": [
    "15 >= 18"
   ]
  },
  {
   "cell_type": "code",
   "execution_count": 96,
   "metadata": {},
   "outputs": [],
   "source": [
    "def is_maior_de_idade(idade):\n",
    "    print(idade >= 18)"
   ]
  },
  {
   "cell_type": "code",
   "execution_count": 97,
   "metadata": {},
   "outputs": [
    {
     "name": "stdout",
     "output_type": "stream",
     "text": [
      "True\n"
     ]
    }
   ],
   "source": [
    "is_maior_de_idade(18)"
   ]
  },
  {
   "cell_type": "code",
   "execution_count": 94,
   "metadata": {},
   "outputs": [],
   "source": [
    "resultados = []\n",
    "def is_maior_de_idade():\n",
    "    for idade in idades:\n",
    "        if(idade >= 18):\n",
    "            resultados.append(True)\n",
    "        else:\n",
    "            resultados.append(False)"
   ]
  },
  {
   "cell_type": "code",
   "execution_count": 95,
   "metadata": {},
   "outputs": [
    {
     "name": "stdout",
     "output_type": "stream",
     "text": [
      "[True, True, False, True]\n"
     ]
    }
   ],
   "source": [
    "is_maior_de_idade()\n",
    "print(resultados)"
   ]
  },
  {
   "cell_type": "code",
   "execution_count": 92,
   "metadata": {},
   "outputs": [
    {
     "name": "stdout",
     "output_type": "stream",
     "text": [
      "Maior de idade\n",
      "Maior de idade\n",
      "Menor de idade\n",
      "Maior de idade\n"
     ]
    }
   ],
   "source": [
    "for resultado in resultados:\n",
    "    if(resultado == True):\n",
    "        print('Maior de idade')\n",
    "    else:\n",
    "        print('Menor de idade')"
   ]
  },
  {
   "cell_type": "code",
   "execution_count": null,
   "metadata": {},
   "outputs": [],
   "source": []
  }
 ],
 "metadata": {
  "kernelspec": {
   "display_name": "Python 3",
   "language": "python",
   "name": "python3"
  },
  "language_info": {
   "codemirror_mode": {
    "name": "ipython",
    "version": 3
   },
   "file_extension": ".py",
   "mimetype": "text/x-python",
   "name": "python",
   "nbconvert_exporter": "python",
   "pygments_lexer": "ipython3",
   "version": "3.8.2"
  }
 },
 "nbformat": 4,
 "nbformat_minor": 4
}
