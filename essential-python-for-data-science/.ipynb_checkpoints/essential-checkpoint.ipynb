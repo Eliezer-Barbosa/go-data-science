{
 "cells": [
  {
   "cell_type": "markdown",
   "metadata": {},
   "source": [
    "## Essencial do Python para Data Science\n",
    "\n",
    "Este material foi criado baseado no livro: Data Science do Zero de Joel Grus."
   ]
  },
  {
   "cell_type": "markdown",
   "metadata": {},
   "source": [
    "### Estilo de formação do cídigo"
   ]
  },
  {
   "cell_type": "code",
   "execution_count": 1,
   "metadata": {},
   "outputs": [
    {
     "name": "stdout",
     "output_type": "stream",
     "text": [
      "1\n",
      "3\n",
      "4\n",
      "j done\n",
      "2\n",
      "3\n",
      "4\n",
      "j done\n",
      "i done\n"
     ]
    }
   ],
   "source": [
    "# Python utiliza indentação para delimitar o bloco de código\n",
    "for i in [1, 2]:\n",
    "    print(i)\n",
    "    for j in [3, 4]:\n",
    "        print(j)\n",
    "    print(\"j done\") # final do loop do j\n",
    "print(\"i done\") # final do loop do i"
   ]
  },
  {
   "cell_type": "markdown",
   "metadata": {},
   "source": [
    "### Carregando os modulos"
   ]
  },
  {
   "cell_type": "code",
   "execution_count": 2,
   "metadata": {},
   "outputs": [],
   "source": [
    "# Todos os modulos (bibliotecas) devem ser importados como abaixo:\n",
    "import re\n",
    "# Você ainda pode querer definir um nome mais declarativo ou simples fazendo isso:\n",
    "import re as regex\n",
    "import matplotlib.pyplot as plt\n",
    "# Ainda é possível fazer o import de uma função específica:\n",
    "from collections import Counter"
   ]
  },
  {
   "cell_type": "markdown",
   "metadata": {},
   "source": [
    "### Definindo funções"
   ]
  },
  {
   "cell_type": "code",
   "execution_count": 3,
   "metadata": {},
   "outputs": [
    {
     "data": {
      "text/plain": [
       "4"
      ]
     },
     "execution_count": 3,
     "metadata": {},
     "output_type": "execute_result"
    }
   ],
   "source": [
    "# Para definir uma função em Python devemos utilizar a palavra reservada def como abaixo:\n",
    "def my_sum(a, b):\n",
    "    return a + b\n",
    "\n",
    "my_sum(2, 2) # chamando a função soma!"
   ]
  },
  {
   "cell_type": "code",
   "execution_count": 4,
   "metadata": {},
   "outputs": [
    {
     "data": {
      "text/plain": [
       "4"
      ]
     },
     "execution_count": 4,
     "metadata": {},
     "output_type": "execute_result"
    }
   ],
   "source": [
    "# Você também poderia escrever a função acima inline como abaixo:\n",
    "def my_soma_in_line(a, b): return a + b\n",
    "\n",
    "my_soma_in_line(2, 2)"
   ]
  },
  {
   "cell_type": "code",
   "execution_count": 13,
   "metadata": {},
   "outputs": [
    {
     "name": "stdout",
     "output_type": "stream",
     "text": [
      "4\n",
      "--\n"
     ]
    },
    {
     "data": {
      "text/plain": [
       "2"
      ]
     },
     "execution_count": 13,
     "metadata": {},
     "output_type": "execute_result"
    }
   ],
   "source": [
    "# Você ainda pode atribuir funções para variaveis como abaixo:\n",
    "def old_double(x): return x * 2;\n",
    "new_double = old_double\n",
    "print(new_double(2))\n",
    "\n",
    "print(\"--\")\n",
    "# E então fazer coisas confusas como isso:\n",
    "\n",
    "def apply_function(function): return function(1)\n",
    "apply_function(new_double) # Mas como eu poderia passar o argumento junto?\n"
   ]
  },
  {
   "cell_type": "markdown",
   "metadata": {},
   "source": [
    "#### Documentação simples sobre funções"
   ]
  },
  {
   "cell_type": "code",
   "execution_count": 20,
   "metadata": {},
   "outputs": [
    {
     "data": {
      "text/plain": [
       "4"
      ]
     },
     "execution_count": 20,
     "metadata": {},
     "output_type": "execute_result"
    }
   ],
   "source": [
    "# Neste momento quem sabe chegou a hora de criar uma documentação, as coisas começaram a ficar mais complexas..\n",
    "# Para isso, uma boa prática é fazer como abaixo:\n",
    "def soma(a, b):\n",
    "    \"\"\"Esta função soma a+b\"\"\"\n",
    "    return a + b\n",
    "\n",
    "soma(2, 2)"
   ]
  },
  {
   "cell_type": "code",
   "execution_count": 24,
   "metadata": {},
   "outputs": [
    {
     "name": "stdout",
     "output_type": "stream",
     "text": [
      "5\n",
      "--\n",
      "-5\n"
     ]
    }
   ],
   "source": [
    "# Ainda sobre funções em Python, você pode querer definir os valores e as vezes até trocar a ordem dos argumentos..\n",
    "def subtract(a=0,b=0): return a-b\n",
    "\n",
    "print(subtract(10, 5))\n",
    "\n",
    "print(\"--\")\n",
    "\n",
    "def other_subtract(a, b): return a-b;\n",
    "\n",
    "print(other_subtract(b=10, a=5))"
   ]
  },
  {
   "cell_type": "markdown",
   "metadata": {},
   "source": [
    "### Strings (cadeia de caracteres)"
   ]
  },
  {
   "cell_type": "code",
   "execution_count": null,
   "metadata": {},
   "outputs": [],
   "source": []
  },
  {
   "cell_type": "code",
   "execution_count": null,
   "metadata": {},
   "outputs": [],
   "source": []
  }
 ],
 "metadata": {
  "kernelspec": {
   "display_name": "Python 3",
   "language": "python",
   "name": "python3"
  },
  "language_info": {
   "codemirror_mode": {
    "name": "ipython",
    "version": 3
   },
   "file_extension": ".py",
   "mimetype": "text/x-python",
   "name": "python",
   "nbconvert_exporter": "python",
   "pygments_lexer": "ipython3",
   "version": "3.6.5"
  }
 },
 "nbformat": 4,
 "nbformat_minor": 2
}
